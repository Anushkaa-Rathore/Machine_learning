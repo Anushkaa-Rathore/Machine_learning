{
  "nbformat": 4,
  "nbformat_minor": 0,
  "metadata": {
    "colab": {
      "name": "basics_python.ipynb",
      "provenance": [],
      "collapsed_sections": [],
      "mount_file_id": "1ze46r3YkSwOGYT9evawCHbgF7GslRJCD",
      "authorship_tag": "ABX9TyOHgmfSZ4R+IQJe0i+pGIv0",
      "include_colab_link": true
    },
    "kernelspec": {
      "name": "python3",
      "display_name": "Python 3"
    },
    "language_info": {
      "name": "python"
    }
  },
  "cells": [
    {
      "cell_type": "markdown",
      "metadata": {
        "id": "view-in-github",
        "colab_type": "text"
      },
      "source": [
        "<a href=\"https://colab.research.google.com/github/Anushkaa-Rathore/Machine_learning/blob/main/basics_python.ipynb\" target=\"_parent\"><img src=\"https://colab.research.google.com/assets/colab-badge.svg\" alt=\"Open In Colab\"/></a>"
      ]
    },
    {
      "cell_type": "code",
      "execution_count": 1,
      "metadata": {
        "colab": {
          "base_uri": "https://localhost:8080/"
        },
        "id": "97zlB_YW4t6L",
        "outputId": "67174050-7c89-4b27-a1c4-07de2b398b8e"
      },
      "outputs": [
        {
          "output_type": "stream",
          "name": "stdout",
          "text": [
            "[13, 65, 7, 23, 54, 19, 100, 70]\n"
          ]
        }
      ],
      "source": [
        "#Append\n",
        "li = [13,65,7,23,54,19]\n",
        "li.append(100)\n",
        "li.append(70)\n",
        "print(li)"
      ]
    },
    {
      "cell_type": "code",
      "source": [
        "#Extend\n",
        "li = [13,65,7,23,54,19]\n",
        "li.extend([100,101])\n",
        "print(li)"
      ],
      "metadata": {
        "colab": {
          "base_uri": "https://localhost:8080/"
        },
        "id": "plRw4J0R5IFo",
        "outputId": "f3b635a7-5921-4805-a2a9-fcc0e6ba9069"
      },
      "execution_count": 2,
      "outputs": [
        {
          "output_type": "stream",
          "name": "stdout",
          "text": [
            "[13, 65, 7, 23, 54, 19, 100, 101]\n"
          ]
        }
      ]
    },
    {
      "cell_type": "code",
      "source": [
        "#Insert\n",
        "li = [13, 65, 7, 23, 54, 19, 100, 101]\n",
        "li.insert(5,23)\n",
        "print(li)\n"
      ],
      "metadata": {
        "colab": {
          "base_uri": "https://localhost:8080/"
        },
        "id": "p9QhW_ri5RMC",
        "outputId": "ca32b83c-9e93-4ae8-fbfc-cfbc0d851303"
      },
      "execution_count": 3,
      "outputs": [
        {
          "output_type": "stream",
          "name": "stdout",
          "text": [
            "[13, 65, 7, 23, 54, 23, 19, 100, 101]\n"
          ]
        }
      ]
    },
    {
      "cell_type": "code",
      "source": [
        "#Remove\n",
        "li = [13, 65, 7, 23, 54, 23, 19, 100, 101]\n",
        "li.remove(19)\n",
        "print(li)"
      ],
      "metadata": {
        "colab": {
          "base_uri": "https://localhost:8080/"
        },
        "id": "4b3kW0s-5ToJ",
        "outputId": "44b73e90-6166-41fb-f93c-3f6b2c007788"
      },
      "execution_count": 4,
      "outputs": [
        {
          "output_type": "stream",
          "name": "stdout",
          "text": [
            "[13, 65, 7, 23, 54, 23, 100, 101]\n"
          ]
        }
      ]
    },
    {
      "cell_type": "code",
      "source": [
        "#pop\n",
        "li = [13, 65, 7, 23, 54, 23, 101]\n",
        "li.pop(4)\n",
        "print(li)"
      ],
      "metadata": {
        "colab": {
          "base_uri": "https://localhost:8080/"
        },
        "id": "gRinyhcq5WLB",
        "outputId": "37a42a73-51e9-4eaf-8058-47e901dd344f"
      },
      "execution_count": 5,
      "outputs": [
        {
          "output_type": "stream",
          "name": "stdout",
          "text": [
            "[13, 65, 7, 23, 23, 101]\n"
          ]
        }
      ]
    },
    {
      "cell_type": "code",
      "source": [
        "#Slicing\n",
        "li = [13, 65, 7, 23, 23, 101]\n",
        "print(li[:4])  \n",
        "print(li[2:]) \n",
        "print(li[2:4]) \n",
        "print(li[:])"
      ],
      "metadata": {
        "colab": {
          "base_uri": "https://localhost:8080/"
        },
        "id": "z-Re1PPg5Yjg",
        "outputId": "6258415a-d29b-4bb2-a940-1f1d7557f46b"
      },
      "execution_count": 6,
      "outputs": [
        {
          "output_type": "stream",
          "name": "stdout",
          "text": [
            "[13, 65, 7, 23]\n",
            "[7, 23, 23, 101]\n",
            "[7, 23]\n",
            "[13, 65, 7, 23, 23, 101]\n"
          ]
        }
      ]
    },
    {
      "cell_type": "code",
      "source": [
        "#Reverse\n",
        "li = [13, 65, 7, 23, 23, 101]\n",
        "li.reverse()\n",
        "print(li)"
      ],
      "metadata": {
        "colab": {
          "base_uri": "https://localhost:8080/"
        },
        "id": "6re4z8YR5b37",
        "outputId": "cc5c5d39-e6f5-49b1-e1d0-d786c67c9c21"
      },
      "execution_count": 7,
      "outputs": [
        {
          "output_type": "stream",
          "name": "stdout",
          "text": [
            "[101, 23, 23, 7, 65, 13]\n"
          ]
        }
      ]
    },
    {
      "cell_type": "code",
      "source": [
        "#length\n",
        "li = [13, 65, 7, 23, 23, 101]\n",
        "print(len(li))"
      ],
      "metadata": {
        "colab": {
          "base_uri": "https://localhost:8080/"
        },
        "id": "jNjGzR6r5eWz",
        "outputId": "d17d7a63-8270-4254-e180-b5a9f42e32fa"
      },
      "execution_count": 8,
      "outputs": [
        {
          "output_type": "stream",
          "name": "stdout",
          "text": [
            "6\n"
          ]
        }
      ]
    },
    {
      "cell_type": "code",
      "source": [
        "#Max and Min\n",
        "li = [13, 65, 7, 23, 23, 101]\n",
        "print(min(li))\n",
        "print(max(li))\n",
        "print(li.count(23))"
      ],
      "metadata": {
        "colab": {
          "base_uri": "https://localhost:8080/"
        },
        "id": "9mmSXyNk5gg4",
        "outputId": "cf4cee9f-224c-4312-f8c6-816d9ad51edf"
      },
      "execution_count": 9,
      "outputs": [
        {
          "output_type": "stream",
          "name": "stdout",
          "text": [
            "7\n",
            "101\n",
            "2\n"
          ]
        }
      ]
    },
    {
      "cell_type": "code",
      "source": [
        "List = [2,26,26,8,1,10,1,20,8,24,20,9,12,3,1,14,12,19,20,31,3,8,31,30,275,7,14,20,1,25]\n",
        "print(List[::-2])\n",
        "print(List[:5])\n",
        "print(List[3:12:-2])"
      ],
      "metadata": {
        "colab": {
          "base_uri": "https://localhost:8080/"
        },
        "id": "UNB6PWY15jTw",
        "outputId": "682573af-a206-48be-982d-f9b9941cb580"
      },
      "execution_count": 10,
      "outputs": [
        {
          "output_type": "stream",
          "name": "stdout",
          "text": [
            "[25, 20, 7, 30, 8, 31, 19, 14, 3, 9, 24, 20, 10, 8, 26]\n",
            "[2, 26, 26, 8, 1]\n",
            "[]\n"
          ]
        }
      ]
    },
    {
      "cell_type": "code",
      "source": [
        ""
      ],
      "metadata": {
        "id": "xOjE777u5lsk"
      },
      "execution_count": null,
      "outputs": []
    }
  ]
}