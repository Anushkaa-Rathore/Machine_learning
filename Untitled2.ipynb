{
  "nbformat": 4,
  "nbformat_minor": 0,
  "metadata": {
    "colab": {
      "name": "Untitled2.ipynb",
      "provenance": [],
      "authorship_tag": "ABX9TyMnY5FCXj8abN2sfR4dIIpD",
      "include_colab_link": true
    },
    "kernelspec": {
      "name": "python3",
      "display_name": "Python 3"
    },
    "language_info": {
      "name": "python"
    }
  },
  "cells": [
    {
      "cell_type": "markdown",
      "metadata": {
        "id": "view-in-github",
        "colab_type": "text"
      },
      "source": [
        "<a href=\"https://colab.research.google.com/github/Anushkaa-Rathore/Machine_learning/blob/main/Untitled2.ipynb\" target=\"_parent\"><img src=\"https://colab.research.google.com/assets/colab-badge.svg\" alt=\"Open In Colab\"/></a>"
      ]
    },
    {
      "cell_type": "code",
      "execution_count": null,
      "metadata": {
        "colab": {
          "base_uri": "https://localhost:8080/"
        },
        "id": "9eyaWFX0h3hV",
        "outputId": "a8abe95b-04af-42ff-ee6d-a97a6e1a12d8"
      },
      "outputs": [
        {
          "output_type": "stream",
          "name": "stdout",
          "text": [
            "[25, 20, 7, 30, 8, 31, 19, 14, 3, 9, 24, 20, 10, 8, 26]\n",
            "4\n",
            "13\n"
          ]
        }
      ],
      "source": [
        "l=[2,26,26,8,1,10,1,20,8,24,20,9,12,3,1,14,12,19,20,31,3,8,3,30,25,7,14,20,1,25]\n",
        "print(l[::-2])\n",
        "l=(2,26,26,8,1,10,1,20,8,24,20,9,12,3,1,14,12,19,20,31,3,8,3,30,25,7,14,20,1,25)\n",
        "print(l.count(20))\n",
        "print(l.index(3))\n"
      ]
    },
    {
      "cell_type": "code",
      "source": [
        ""
      ],
      "metadata": {
        "id": "PLguPIH9iq3F"
      },
      "execution_count": null,
      "outputs": []
    }
  ]
}