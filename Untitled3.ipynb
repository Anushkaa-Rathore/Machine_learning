{
  "nbformat": 4,
  "nbformat_minor": 0,
  "metadata": {
    "colab": {
      "name": "Untitled3.ipynb",
      "provenance": [],
      "authorship_tag": "ABX9TyO/Vac7C0oz/dQR7YjF6vBC",
      "include_colab_link": true
    },
    "kernelspec": {
      "name": "python3",
      "display_name": "Python 3"
    },
    "language_info": {
      "name": "python"
    }
  },
  "cells": [
    {
      "cell_type": "markdown",
      "metadata": {
        "id": "view-in-github",
        "colab_type": "text"
      },
      "source": [
        "<a href=\"https://colab.research.google.com/github/Anushkaa-Rathore/Machine_learning/blob/main/Untitled3.ipynb\" target=\"_parent\"><img src=\"https://colab.research.google.com/assets/colab-badge.svg\" alt=\"Open In Colab\"/></a>"
      ]
    },
    {
      "cell_type": "code",
      "execution_count": null,
      "metadata": {
        "colab": {
          "base_uri": "https://localhost:8080/"
        },
        "id": "9-iBGc1fePpd",
        "outputId": "f94225f5-16f4-414a-af33-367efb336058"
      },
      "outputs": [
        {
          "output_type": "stream",
          "name": "stdout",
          "text": [
            "[0, 3, 6, 9, 12, 15, 18, 21, 24]\n"
          ]
        }
      ],
      "source": [
        "L=[3*i for i in range (0,9)]\n",
        "print(L)"
      ]
    },
    {
      "cell_type": "code",
      "source": [
        "L=[n*2 for n in range(1,11)]\n",
        "print(L)"
      ],
      "metadata": {
        "colab": {
          "base_uri": "https://localhost:8080/"
        },
        "id": "TcKGv2Jzep4T",
        "outputId": "e03e3b1f-ed5c-4d8c-a634-b1fc96303527"
      },
      "execution_count": null,
      "outputs": [
        {
          "output_type": "stream",
          "name": "stdout",
          "text": [
            "[2, 4, 6, 8, 10, 12, 14, 16, 18, 20]\n"
          ]
        }
      ]
    },
    {
      "cell_type": "code",
      "source": [
        "L=[i for i in range(0,9) if(i%2==0)]\n",
        "print(L)"
      ],
      "metadata": {
        "colab": {
          "base_uri": "https://localhost:8080/"
        },
        "id": "-Sdw_Im0gszh",
        "outputId": "bf19f943-5f44-4e74-d2f5-342b5de78949"
      },
      "execution_count": null,
      "outputs": [
        {
          "output_type": "stream",
          "name": "stdout",
          "text": [
            "[0, 2, 4, 6, 8]\n"
          ]
        }
      ]
    },
    {
      "cell_type": "code",
      "source": [
        "L=[i for i in range(0,1000) if '6' in str(i)]\n",
        "print(len(L))"
      ],
      "metadata": {
        "colab": {
          "base_uri": "https://localhost:8080/"
        },
        "id": "IcH2yQZWh62Z",
        "outputId": "bbe27c62-468f-4316-b857-628661c56a48"
      },
      "execution_count": null,
      "outputs": [
        {
          "output_type": "stream",
          "name": "stdout",
          "text": [
            "271\n"
          ]
        }
      ]
    },
    {
      "cell_type": "code",
      "source": [
        "a=input()\n",
        "L=[i for i in a if \" \" in i]\n",
        "print(len(L))"
      ],
      "metadata": {
        "colab": {
          "base_uri": "https://localhost:8080/"
        },
        "id": "Twsf2XrYitxI",
        "outputId": "563afb29-54d8-462e-f269-7331a3ebff82"
      },
      "execution_count": null,
      "outputs": [
        {
          "output_type": "stream",
          "name": "stdout",
          "text": [
            "A N U S H K A\n",
            "6\n"
          ]
        }
      ]
    },
    {
      "cell_type": "code",
      "source": [
        "thisdict = { \"Name\": \"Anushka\", \"Branch\": \"CSIT\",\"Birth\":2001}\n",
        "print(thisdict)\n",
        "print(thisdict.keys())\n",
        "print(thisdict.values())\n",
        "print(thisdict[\"Name\"])\n",
        "print(thisdict.get(\"Birth\"))\n",
        "thisdict[\"Branch\"]=\"Computer Science And Information Technology\"\n",
        "print(thisdict)\n",
        "print(thisdict.items())\n",
        "newdict={\"January\":,\"Feburary\":,\"March\":i,\"April\":i,\"May\":i,\"June\":i,\"July\":i,\"August\":i,\"September\":i,\"October\":5,\"November\":i,\"December\":i}\n",
        "\n",
        "print(newdict)\n"
      ],
      "metadata": {
        "colab": {
          "base_uri": "https://localhost:8080/",
          "height": 130
        },
        "id": "LKJRPYCSjxuo",
        "outputId": "b283c305-d68a-4759-8a7d-6dceb27b9f49"
      },
      "execution_count": null,
      "outputs": [
        {
          "output_type": "error",
          "ename": "IndentationError",
          "evalue": "ignored",
          "traceback": [
            "\u001b[0;36m  File \u001b[0;32m\"<ipython-input-28-f44e27b13d2a>\"\u001b[0;36m, line \u001b[0;32m13\u001b[0m\n\u001b[0;31m    print(newdict)\u001b[0m\n\u001b[0m        ^\u001b[0m\n\u001b[0;31mIndentationError\u001b[0m\u001b[0;31m:\u001b[0m expected an indented block\n"
          ]
        }
      ]
    },
    {
      "cell_type": "code",
      "source": [
        ""
      ],
      "metadata": {
        "id": "oY5BzBwLtydj"
      },
      "execution_count": null,
      "outputs": []
    },
    {
      "cell_type": "code",
      "source": [
        ""
      ],
      "metadata": {
        "id": "FjcNywDdnFWO"
      },
      "execution_count": null,
      "outputs": []
    }
  ]
}